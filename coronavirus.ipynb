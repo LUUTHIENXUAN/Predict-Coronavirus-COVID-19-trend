{
  "nbformat": 4,
  "nbformat_minor": 0,
  "metadata": {
    "colab": {
      "name": "coronavirus.ipynb",
      "provenance": [],
      "private_outputs": true,
      "toc_visible": true,
      "authorship_tag": "ABX9TyMOf59NEv49Ly8SAVSGoVGQ",
      "include_colab_link": true
    },
    "kernelspec": {
      "name": "python3",
      "display_name": "Python 3"
    },
    "accelerator": "GPU"
  },
  "cells": [
    {
      "cell_type": "markdown",
      "metadata": {
        "id": "view-in-github",
        "colab_type": "text"
      },
      "source": [
        "<a href=\"https://colab.research.google.com/github/LUUTHIENXUAN/Predict-Coronavirus-COVID-19-trend/blob/master/coronavirus.ipynb\" target=\"_parent\"><img src=\"https://colab.research.google.com/assets/colab-badge.svg\" alt=\"Open In Colab\"/></a>"
      ]
    },
    {
      "cell_type": "code",
      "metadata": {
        "id": "WmuaTNEuFRwU",
        "colab_type": "code",
        "colab": {},
        "cellView": "form"
      },
      "source": [
        "#@title\n",
        "from google.colab import drive\n",
        "drive.mount('/content/drive')"
      ],
      "execution_count": 0,
      "outputs": []
    },
    {
      "cell_type": "code",
      "metadata": {
        "id": "DZOTOXCbF1CZ",
        "colab_type": "code",
        "cellView": "form",
        "colab": {}
      },
      "source": [
        "#@title\n",
        "import os\n",
        "import pprint\n",
        "import tensorflow as tf\n",
        "\n",
        "# GPU\n",
        "gpu_info = !nvidia-smi\n",
        "gpu_info = '\\n'.join(gpu_info)\n",
        "if gpu_info.find('failed') >= 0:\n",
        "  print('Select the Runtime → \"Change runtime type\" menu to enable a GPU accelerator, ')\n",
        "else: print(gpu_info)\n",
        "\n",
        "#TPU\n",
        "if 'COLAB_TPU_ADDR' not in os.environ:\n",
        "  print('ERROR: Not connected to a TPU runtime; please see the first cell in this notebook for instructions!')\n",
        "else:\n",
        "  tpu_address = 'grpc://' + os.environ['COLAB_TPU_ADDR']\n",
        "  print ('TPU address is', tpu_address)\n",
        "\n",
        "  with tf.Session(tpu_address) as session:\n",
        "    devices = session.list_devices()\n",
        "    \n",
        "  print('TPU devices:')\n",
        "  pprint.pprint(devices)\n",
        "\n",
        "#RAM\n",
        "from psutil import virtual_memory\n",
        "ram_gb = virtual_memory().total / 1e9\n",
        "print('Your runtime has {:.1f} gigabytes of available RAM\\n'.format(ram_gb))\n",
        "\n",
        "if ram_gb < 20:\n",
        "  print('To enable a high-RAM runtime, select the Runtime → \"Change runtime type\"')\n",
        "else:\n",
        "  print('You are using a high-RAM runtime!')"
      ],
      "execution_count": 0,
      "outputs": []
    },
    {
      "cell_type": "code",
      "metadata": {
        "id": "V45wMw3FLoX9",
        "colab_type": "code",
        "colab": {}
      },
      "source": [
        "'''\n",
        "from getpass import getpass\n",
        "import os\n",
        "\n",
        "user = getpass('BitBucket user')\n",
        "password = getpass('BitBucket password')\n",
        "os.environ['BITBUCKET_AUTH'] = user + ':' + password\n",
        "\n",
        "!git clone https://$BITBUCKET_AUTH@bitbucket.org/{user}/repository.git\n",
        "'''\n",
        "! git clone https://github.com/LUUTHIENXUAN/Predict-Coronavirus-COVID-19-trend.git"
      ],
      "execution_count": 0,
      "outputs": []
    },
    {
      "cell_type": "code",
      "metadata": {
        "id": "so6PCBTvGPJB",
        "colab_type": "code",
        "colab": {}
      },
      "source": [
        "import pandas as pd\n",
        "import numpy as np\n",
        "from matplotlib import pyplot as plt\n",
        "from fbprophet import Prophet"
      ],
      "execution_count": 0,
      "outputs": []
    },
    {
      "cell_type": "code",
      "metadata": {
        "id": "hMalzbvcGib2",
        "colab_type": "code",
        "colab": {}
      },
      "source": [
        "df = pd.read_csv('/content/Predict-Coronavirus-COVID-19-trend/corona virus/datasets/covid_19_data.csv',parse_dates=['Last Update'])\n",
        "df.rename(columns={'ObservationDate':'Date', 'Country/Region':'Country'}, inplace=True)\n",
        "\n",
        "df"
      ],
      "execution_count": 0,
      "outputs": []
    },
    {
      "cell_type": "code",
      "metadata": {
        "id": "4sMBQFyMQLIr",
        "colab_type": "code",
        "colab": {}
      },
      "source": [
        "df_date = df.groupby([\"Date\"])[['Confirmed', 'Deaths', 'Recovered']].sum().reset_index()\n",
        "df_country = df.groupby([\"Country\"])[['Confirmed', 'Deaths', 'Recovered']].sum().reset_index()\n",
        "\n",
        "date_x_ticks = []\n",
        "country_x_ticks = []\n",
        "date_confirmed=[]\n",
        "date_deaths=[]\n",
        "date_recovered=[]\n",
        "country_confirmed = []\n",
        "country_deaths = []\n",
        "country_recovered = []\n",
        "\n",
        "for index, row in df_date.iterrows():\n",
        "  date_x_ticks.append(row['Date'])\n",
        "  date_confirmed.append(row['Confirmed'])\n",
        "  date_deaths.append(row['Deaths'])\n",
        "  date_recovered.append(row['Recovered'])\n",
        "\n",
        "for index, row in df_country.iterrows():\n",
        "  country_x_ticks.append(row['Country'])\n",
        "  country_confirmed.append(row['Confirmed'])\n",
        "  country_deaths.append(row['Deaths'])\n",
        "  country_recovered.append(row['Recovered'])"
      ],
      "execution_count": 0,
      "outputs": []
    },
    {
      "cell_type": "code",
      "metadata": {
        "id": "RX2xQg3BRGcG",
        "colab_type": "code",
        "colab": {}
      },
      "source": [
        "#plt.xticks(np.arange(len(date_x_ticks)), date_x_ticks)\n",
        "plt.xlabel('Dates')\n",
        "plt.ylabel('Cases')\n",
        "plt.plot(date_confirmed, label='Confirmed', color='blue')\n",
        "plt.plot(date_deaths, label='Deaths', color='red')\n",
        "plt.plot(date_recovered, label='Recovered', color='green')\n",
        "plt.title(\"Coronavirus cases in the world by date\")\n",
        "plt.legend()\n",
        "plt.show()"
      ],
      "execution_count": 0,
      "outputs": []
    },
    {
      "cell_type": "code",
      "metadata": {
        "id": "ahLtmaUASQhN",
        "colab_type": "code",
        "colab": {}
      },
      "source": [
        "plt.xticks(np.arange(len(country_x_ticks[:5])), country_x_ticks[:5])\n",
        "plt.xlabel('Countries')\n",
        "plt.ylabel('Cases')\n",
        "plt.bar(np.arange(len(country_confirmed[:5])), country_confirmed[:5], align='center', alpha=0.5, color='blue', label='Confirmed')\n",
        "plt.bar(np.arange(len(country_deaths[:5])), country_deaths[:5], align='center', alpha=0.5, color='red', label='Deaths')\n",
        "plt.bar(np.arange(len(country_recovered[:5])), country_recovered[:5], align='center', alpha=0.5, color='green', label='Recovered')"
      ],
      "execution_count": 0,
      "outputs": []
    },
    {
      "cell_type": "code",
      "metadata": {
        "id": "sBJy7BN2Sj5l",
        "colab_type": "code",
        "colab": {}
      },
      "source": [
        "plt.xlabel('Countries')\n",
        "plt.ylabel('Cases')\n",
        "plt.bar(np.arange(len(country_confirmed)), country_confirmed, align='center', alpha=0.5, color='blue', label='Confirmed')\n",
        "plt.bar(np.arange(len(country_deaths)), country_deaths, align='center', alpha=0.5, color='red', label='Deaths')\n",
        "plt.bar(np.arange(len(country_recovered)), country_recovered, align='center', alpha=0.5, color='green', label='Recovered')\n",
        "plt.title(\"Coronavirus cases in the world by country\")\n",
        "plt.legend()\n",
        "plt.show()"
      ],
      "execution_count": 0,
      "outputs": []
    },
    {
      "cell_type": "code",
      "metadata": {
        "id": "MQbTo-3ETBD-",
        "colab_type": "code",
        "colab": {}
      },
      "source": [
        "date_confirmed_prophet = df_date[['Date', 'Confirmed']]\n",
        "date_death_prophet = df_date[['Date', 'Deaths']]\n",
        "date_recovered_prophet = df_date[['Date', 'Recovered']]\n",
        "\n",
        "date_confirmed_prophet.columns = ['ds', 'y']\n",
        "date_death_prophet.columns = ['ds', 'y']\n",
        "date_recovered_prophet.columns = ['ds', 'y']\n",
        "#\n",
        "model_confirmed = Prophet(interval_width=0.99)\n",
        "model_confirmed.fit(date_confirmed_prophet)\n",
        "future_confirmed = model_confirmed.make_future_dataframe(periods=30)\n",
        "forecast_confirmed = model_confirmed.predict(future_confirmed)\n",
        "\n",
        "print(forecast_confirmed.tail())\n",
        "fig1 = model_confirmed.plot(forecast_confirmed)\n",
        "#fig2 = model_confirmed.plot_components(forecast_confirmed)"
      ],
      "execution_count": 0,
      "outputs": []
    },
    {
      "cell_type": "code",
      "metadata": {
        "id": "JEuW88UeXkI9",
        "colab_type": "code",
        "colab": {}
      },
      "source": [
        "from fbprophet.plot import plot_plotly\n",
        "import plotly.offline as py\n",
        "py.init_notebook_mode()\n",
        "\n",
        "fig = plot_plotly(model_confirmed, forecast_confirmed)  # This returns a plotly Figure\n",
        "py.iplot(fig)"
      ],
      "execution_count": 0,
      "outputs": []
    },
    {
      "cell_type": "code",
      "metadata": {
        "id": "8v7C1p4JTQGK",
        "colab_type": "code",
        "colab": {}
      },
      "source": [
        "forecast_confirmed_yhat = []\n",
        "forecast_confirmed_yhat_u = []\n",
        "forecast_confirmed_yhat_l = []\n",
        "\n",
        "for index, row in forecast_confirmed.iterrows():\n",
        "\n",
        "    forecast_confirmed_yhat.append(row['yhat'])\n",
        "    forecast_confirmed_yhat_l.append(row['yhat_lower'])\n",
        "    forecast_confirmed_yhat_u.append(row['yhat_upper'])\n",
        "\n",
        "\n",
        "plt.xlabel('Dates')\n",
        "plt.ylabel('Cases')\n",
        "plt.plot(forecast_confirmed_yhat, label='Prediction', color='blue')\n",
        "plt.plot(forecast_confirmed_yhat_l, label='Prediction lower', color='red')\n",
        "plt.plot(forecast_confirmed_yhat_u, label='Predicition upper', color='green')\n",
        "plt.title(\"Forecast of confirmed cases \")\n",
        "plt.legend()\n",
        "plt.show()"
      ],
      "execution_count": 0,
      "outputs": []
    },
    {
      "cell_type": "code",
      "metadata": {
        "id": "-hzKDjvnT3Kw",
        "colab_type": "code",
        "colab": {}
      },
      "source": [
        "model_death = Prophet(interval_width=0.99)\n",
        "model_death.fit(date_death_prophet)\n",
        "future_death = model_death.make_future_dataframe(periods=30)\n",
        "forecast_death = model_death.predict(future_death)\n",
        "\n",
        "fig2 = model_death.plot(forecast_death)\n"
      ],
      "execution_count": 0,
      "outputs": []
    },
    {
      "cell_type": "code",
      "metadata": {
        "id": "GV98-qScglQo",
        "colab_type": "code",
        "colab": {}
      },
      "source": [
        "dates_forecast_death = []\n",
        "forecast_death_yhat = []\n",
        "forecast_death_yhat_u = []\n",
        "forecast_death_yhat_l = []\n",
        "\n",
        "for index, row in forecast_death.iterrows():\n",
        "    dates_forecast_death.append(row['ds'])\n",
        "    forecast_death_yhat.append(row['yhat'])\n",
        "    forecast_death_yhat_l.append(row['yhat_lower'])\n",
        "    forecast_death_yhat_u.append(row['yhat_upper'])\n",
        "\n",
        "\n",
        "plt.xlabel('Dates')\n",
        "plt.ylabel('Cases')\n",
        "plt.plot(forecast_death_yhat, label='Prediction', color='blue')\n",
        "plt.plot(forecast_death_yhat_l, label='Prediction lower', color='red')\n",
        "plt.plot(forecast_death_yhat_u, label='Predicition upper', color='green')\n",
        "plt.title(\"Forecast of death cases \")\n",
        "plt.legend()\n",
        "plt.show()"
      ],
      "execution_count": 0,
      "outputs": []
    },
    {
      "cell_type": "code",
      "metadata": {
        "id": "qJVT4uHeUAof",
        "colab_type": "code",
        "colab": {}
      },
      "source": [
        "model_recovered = Prophet(interval_width=0.99)\n",
        "model_recovered.fit(date_recovered_prophet)\n",
        "future_recovered = model_recovered.make_future_dataframe(periods=30)\n",
        "forecast_recovered = model_recovered.predict(future_recovered)\n",
        "\n",
        "fig3 = model_recovered.plot(forecast_recovered)"
      ],
      "execution_count": 0,
      "outputs": []
    },
    {
      "cell_type": "code",
      "metadata": {
        "id": "d52uBpBHgu40",
        "colab_type": "code",
        "colab": {}
      },
      "source": [
        "dates_forecast_recovered = []\n",
        "forecast_recovered_yhat = []\n",
        "forecast_recovered_yhat_u = []\n",
        "forecast_recovered_yhat_l = []\n",
        "\n",
        "for index, row in forecast_recovered.iterrows():\n",
        "    dates_forecast_recovered.append(row['ds'])\n",
        "    forecast_recovered_yhat.append(row['yhat'])\n",
        "    forecast_recovered_yhat_l.append(row['yhat_lower'])\n",
        "    forecast_recovered_yhat_u.append(row['yhat_upper'])\n",
        "\n",
        "\n",
        "plt.xlabel('Dates')\n",
        "plt.ylabel('Cases')\n",
        "plt.plot(forecast_recovered_yhat, label='Prediction', color='blue')\n",
        "plt.plot(forecast_recovered_yhat_l, label='Prediction lower', color='red')\n",
        "plt.plot(forecast_recovered_yhat_u, label='Predicition upper', color='green')\n",
        "plt.title(\"Forecast of recovered cases\")\n",
        "plt.legend()\n",
        "plt.show()"
      ],
      "execution_count": 0,
      "outputs": []
    },
    {
      "cell_type": "code",
      "metadata": {
        "id": "yq8aiqxNUs7Y",
        "colab_type": "code",
        "colab": {}
      },
      "source": [
        "plt.xlabel('Dates')\n",
        "plt.ylabel('Cases')\n",
        "plt.plot(forecast_confirmed_yhat, label='Confirmed', color='blue')\n",
        "plt.plot(forecast_death_yhat, label='Death', color='red')\n",
        "plt.plot(forecast_recovered_yhat, label='Recovered', color='green')\n",
        "plt.title(\"Forecast of Coronavirus cases\")\n",
        "plt.legend()\n",
        "plt.show()"
      ],
      "execution_count": 0,
      "outputs": []
    },
    {
      "cell_type": "code",
      "metadata": {
        "id": "YcF5h4iMU3IU",
        "colab_type": "code",
        "colab": {}
      },
      "source": [
        "date_confirmed_prophet_y = []\n",
        "date_recovered_prophet_y = []\n",
        "date_death_prophet_y = []\n",
        "\n",
        "for index, row in date_confirmed_prophet.iterrows():\n",
        "    date_confirmed_prophet_y.append(row['y'])\n",
        "for index, row in date_death_prophet.iterrows():\n",
        "    date_death_prophet_y.append(row['y'])\n",
        "for index, row in date_recovered_prophet.iterrows():\n",
        "    date_recovered_prophet_y.append(row['y'])\n",
        "\n",
        "\n",
        "plt.xlabel('Dates')\n",
        "plt.ylabel('Cases')\n",
        "plt.plot(forecast_confirmed_yhat, label = 'Confirmed forecast')\n",
        "plt.plot(date_confirmed_prophet_y, label = 'Confirmed')\n",
        "plt.title(\"Confirmed vs Confirmed forecast Coronavirus\")\n",
        "plt.legend()\n",
        "plt.show()\n",
        "\n",
        "plt.xlabel('Dates')\n",
        "plt.ylabel('Cases')\n",
        "plt.plot(forecast_death_yhat, label = 'Death forecast')\n",
        "plt.plot(date_death_prophet_y, label = 'Death')\n",
        "plt.title(\"Death vs Death forecast Coronavirus\")\n",
        "plt.legend()\n",
        "plt.show()\n",
        "\n",
        "plt.xlabel('Dates')\n",
        "plt.ylabel('Cases')\n",
        "plt.plot(forecast_recovered_yhat, label = 'Recovered forecast')\n",
        "plt.plot(date_recovered_prophet_y, label = 'Recovered')\n",
        "plt.title(\"Recovered vs Recovered forecast Coronavirus\")\n",
        "plt.legend()\n",
        "plt.show()"
      ],
      "execution_count": 0,
      "outputs": []
    }
  ]
}